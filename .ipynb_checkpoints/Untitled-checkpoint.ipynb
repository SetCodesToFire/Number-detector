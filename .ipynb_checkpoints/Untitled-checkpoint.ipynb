{
 "cells": [
  {
   "cell_type": "markdown",
   "metadata": {},
   "source": [
    "**MNIST DATASET**\n",
    "\n",
    "\n",
    "The MNIST database (Modified National Institute of Standards and Technology database) is a large database of handwritten digits \n",
    "that is commonly used for training various image processing systems.[1][2] The database is also widely used for training and \n",
    "testing in the field of machine learning.It was created by \"re-mixing\" the samples from NIST's original dataset. The \n",
    "creators felt that since NIST's training dataset was taken from American Census Bureau employees, while the testing dataset was \n",
    "taken from American high school students, it was not well-suited for machine learning experiments.[5] Furthermore, the black \n",
    "and white images from NIST were normalized to fit into a 28x28 pixel bounding box and anti-aliased, which introduced grayscale \n",
    "levels.\n",
    "\n",
    "The MNIST database contains 60,000 training images and 10,000 testing images. Half of the training set and half of the test \n",
    "set were taken from NIST's training dataset, while the other half of the training set and the other half of the test set were \n",
    "taken from NIST's testing dataset. There have been a number of scientific papers on attempts to achieve the lowest error rate; \n",
    "one paper, using a hierarchical system of convolutional neural networks, manages to get an error rate on the MNIST database of \n",
    "0.23 percent. The original creators of the database keep a list of some of the methods tested on it. In their original \n",
    "paper, they use a support vector machine to get an error rate of 0.8 percent. An extended dataset similar to MNIST called EMNIST \n",
    "has been published in 2017, which contains 240,000 training images, and 40,000 testing images of handwritten digits."
   ]
  },
  {
   "cell_type": "code",
   "execution_count": 1,
   "metadata": {},
   "outputs": [
    {
     "name": "stdout",
     "output_type": "stream",
     "text": [
      "Successfully downloaded train-images-idx3-ubyte.gz 9912422 bytes.\n",
      "Extracting MNIST_data\\train-images-idx3-ubyte.gz\n",
      "Successfully downloaded train-labels-idx1-ubyte.gz 28881 bytes.\n",
      "Extracting MNIST_data\\train-labels-idx1-ubyte.gz\n",
      "Successfully downloaded t10k-images-idx3-ubyte.gz 1648877 bytes.\n",
      "Extracting MNIST_data\\t10k-images-idx3-ubyte.gz\n",
      "Successfully downloaded t10k-labels-idx1-ubyte.gz 4542 bytes.\n",
      "Extracting MNIST_data\\t10k-labels-idx1-ubyte.gz\n"
     ]
    }
   ],
   "source": [
    "from tensorflow.examples.tutorials.mnist import input_data\n",
    "mnist = input_data.read_data_sets('MNIST_data', one_hot=True)"
   ]
  }
 ],
 "metadata": {
  "kernelspec": {
   "display_name": "Python 3",
   "language": "python",
   "name": "python3"
  },
  "language_info": {
   "codemirror_mode": {
    "name": "ipython",
    "version": 3
   },
   "file_extension": ".py",
   "mimetype": "text/x-python",
   "name": "python",
   "nbconvert_exporter": "python",
   "pygments_lexer": "ipython3",
   "version": "3.5.2"
  }
 },
 "nbformat": 4,
 "nbformat_minor": 2
}
